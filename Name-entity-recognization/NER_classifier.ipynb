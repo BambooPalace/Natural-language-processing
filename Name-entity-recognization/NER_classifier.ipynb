{
  "nbformat": 4,
  "nbformat_minor": 0,
  "metadata": {
    "colab": {
      "name": "Assignment1_bc_GONGCHUNZHU.ipynb",
      "provenance": [],
      "collapsed_sections": []
    },
    "kernelspec": {
      "display_name": "Python 3",
      "language": "python",
      "name": "python3"
    },
    "language_info": {
      "codemirror_mode": {
        "name": "ipython",
        "version": 3
      },
      "file_extension": ".py",
      "mimetype": "text/x-python",
      "name": "python",
      "nbconvert_exporter": "python",
      "pygments_lexer": "ipython3",
      "version": "3.7.3"
    },
    "accelerator": "GPU"
  },
  "cells": [
    {
      "cell_type": "markdown",
      "metadata": {
        "id": "lW_GRAHEDpf7"
      },
      "source": [
        "### import custom data"
      ]
    },
    {
      "cell_type": "code",
      "metadata": {
        "colab": {
          "base_uri": "https://localhost:8080/"
        },
        "id": "7uDaKmu4DpgA",
        "outputId": "9405f0a8-cd8c-4196-93a5-3db60240432f"
      },
      "source": [
        "import copy\n",
        "import pprint\n",
        "pp = pprint.PrettyPrinter()\n",
        "from functools import partial\n",
        "from random import randint\n",
        "\n",
        "# evaluate CRF model\n",
        "!pip install sklearn-crfsuite\n",
        "from sklearn_crfsuite import metrics\n",
        "import torch\n",
        "import torch.nn as nn\n",
        "from torch.utils.data import DataLoader\n",
        "\n",
        "train_path = 'wnut17train.conll'\n",
        "dev_path = 'emerging.dev.conll'\n",
        "test_path = 'emerging.test.conll'\n",
        "\n",
        "\n",
        "def file2data(path, test=False):\n",
        "    with open(path, 'r') as file:\n",
        "        sents = file.read()\n",
        "        # split sents\n",
        "        split_key = '\\n\\n' if test else '\\n\\t\\n'\n",
        "        sents = sents.split(split_key)\n",
        "        sents = [s.split('\\n') for s in sents]\n",
        "        for i in range(len(sents)):\n",
        "            sents[i] = [tuple(word.split('\\t')) for word in sents[i]]\n",
        "#             sents[i] = [tuple([pair[0], pair[1].split(',')[0]]) for pair in sents[i]]\n",
        "        \n",
        "        # last element is None\n",
        "        sents.pop()\n",
        "    return sents\n",
        "\n",
        "train_data = file2data(train_path)\n",
        "dev_data = file2data(dev_path, test=True)\n",
        "test_data = file2data(test_path, test=True)\n",
        "print(len(train_data))\n",
        "print(len(dev_data))\n",
        "print(len(test_data))\n",
        "print(train_data[0])\n",
        "print(test_data[0])\n",
        "print()\n",
        "\n",
        "\n",
        "# check labels\n",
        "train_labels = set([word[1] for sent in train_data for word in sent])\n",
        "dev_labels = set([word[1] for sent in dev_data for word in sent])\n",
        "test_labels = set([word[1] for sent in test_data for word in sent])\n",
        "print(train_labels)\n",
        "print()\n",
        "print(dev_labels)\n",
        "print()\n",
        "print(test_labels) # multi labels"
      ],
      "execution_count": 2,
      "outputs": [
        {
          "output_type": "stream",
          "text": [
            "Collecting sklearn-crfsuite\n",
            "  Downloading https://files.pythonhosted.org/packages/25/74/5b7befa513482e6dee1f3dd68171a6c9dfc14c0eaa00f885ffeba54fe9b0/sklearn_crfsuite-0.3.6-py2.py3-none-any.whl\n",
            "Requirement already satisfied: six in /usr/local/lib/python3.6/dist-packages (from sklearn-crfsuite) (1.15.0)\n",
            "Collecting python-crfsuite>=0.8.3\n",
            "\u001b[?25l  Downloading https://files.pythonhosted.org/packages/95/99/869dde6dbf3e0d07a013c8eebfb0a3d30776334e0097f8432b631a9a3a19/python_crfsuite-0.9.7-cp36-cp36m-manylinux1_x86_64.whl (743kB)\n",
            "\u001b[K     |████████████████████████████████| 747kB 8.5MB/s \n",
            "\u001b[?25hRequirement already satisfied: tqdm>=2.0 in /usr/local/lib/python3.6/dist-packages (from sklearn-crfsuite) (4.41.1)\n",
            "Requirement already satisfied: tabulate in /usr/local/lib/python3.6/dist-packages (from sklearn-crfsuite) (0.8.7)\n",
            "Installing collected packages: python-crfsuite, sklearn-crfsuite\n",
            "Successfully installed python-crfsuite-0.9.7 sklearn-crfsuite-0.3.6\n",
            "2394\n",
            "1009\n",
            "1287\n",
            "[('@paulwalk', 'O'), ('It', 'O'), (\"'s\", 'O'), ('the', 'O'), ('view', 'O'), ('from', 'O'), ('where', 'O'), ('I', 'O'), (\"'m\", 'O'), ('living', 'O'), ('for', 'O'), ('two', 'O'), ('weeks', 'O'), ('.', 'O'), ('Empire', 'B-location'), ('State', 'I-location'), ('Building', 'I-location'), ('=', 'O'), ('ESB', 'B-location'), ('.', 'O'), ('Pretty', 'O'), ('bad', 'O'), ('storm', 'O'), ('here', 'O'), ('last', 'O'), ('evening', 'O'), ('.', 'O')]\n",
            "[('&', 'O'), ('gt', 'O'), (';', 'O'), ('*', 'O'), ('The', 'O'), ('soldier', 'O'), ('was', 'O'), ('killed', 'O'), ('when', 'O'), ('another', 'O'), ('avalanche', 'O'), ('hit', 'O'), ('an', 'O'), ('army', 'O'), ('barracks', 'O'), ('in', 'O'), ('the', 'O'), ('northern', 'O'), ('area', 'O'), ('of', 'O'), ('Sonmarg', 'B-location'), (',', 'O'), ('said', 'O'), ('a', 'O'), ('military', 'O'), ('spokesman', 'O'), ('.', 'O')]\n",
            "\n",
            "{'B-group', 'B-location', 'O', 'I-creative-work', 'B-product', 'I-product', 'I-location', 'B-creative-work', 'B-person', 'I-corporation', 'I-person', 'I-group', 'B-corporation'}\n",
            "\n",
            "{'B-group', 'I-creative-work', 'B-location', 'O', 'B-product', 'I-product', 'I-location', 'B-creative-work', 'B-person', 'I-group', 'I-person', 'I-corporation', 'B-corporation'}\n",
            "\n",
            "{'I-creative-work,I-corporation', 'B-creative-work,B-corporation', 'B-corporation,B-group', 'B-product,B-group', 'I-creative-work,B-person', 'B-product', 'B-corporation,I-person,I-group', 'I-product', 'I-corporation,I-group', 'B-creative-work,I-product', 'I-location', 'B-creative-work', 'B-creative-work,B-product,B-corporation', 'B-creative-work,B-person,B-product', 'I-creative-work,I-person,I-product,I-group', 'B-creative-work,B-location,B-corporation,B-product', 'B-creative-work,B-product,B-corporation,B-group', 'I-creative-work,B-location', 'B-creative-work,B-person,B-product,B-corporation', 'I-person,I-product', 'I-creative-work,I-person', 'I-creative-work,I-product,I-corporation', 'I-creative-work,I-product,B-corporation', 'B-person,I-product', 'I-creative-work,I-corporation,I-group', 'I-creative-work,B-corporation', 'I-creative-work,I-product', 'B-creative-work,B-person,B-corporation,B-group', 'I-creative-work,B-group', 'B-location', 'O', 'I-creative-work,I-location', 'B-creative-work,B-location', 'I-creative-work,B-location,B-product', 'I-product,I-group', 'I-person,I-group', 'I-creative-work,I-location,I-corporation', 'B-location,B-group', 'B-creative-work,B-location,B-corporation', 'I-location,B-group', 'I-creative-work,I-person,I-corporation,I-group', 'I-creative-work,B-person,B-product', 'B-creative-work,B-product', 'B-corporation,B-person,B-group', 'I-person,B-product', 'B-corporation', 'B-creative-work,B-corporation,B-group', 'B-corporation,B-product', 'I-creative-work', 'B-corporation,B-product,B-group', 'B-corporation,B-person,B-location', 'B-creative-work,B-location,B-product', 'B-corporation,B-person', 'I-corporation,B-location', 'B-creative-work,B-person,B-product,B-group', 'B-creative-work,B-group', 'I-creative-work,I-product,I-group', 'I-creative-work,B-person,I-corporation', 'B-creative-work,B-product,B-group', 'I-creative-work,I-group', 'B-person,B-product', 'I-corporation,I-location', 'B-person,B-location,B-group', 'I-corporation,I-product', 'B-creative-work,B-location,B-group', 'B-corporation,B-location', 'B-group', 'B-creative-work,B-person,B-group', 'B-corporation,B-location,B-product', 'B-person,B-location', 'I-group', 'B-creative-work,B-person', 'B-person', 'I-corporation', 'I-person', 'I-creative-work,B-corporation,I-group', 'B-creative-work,B-person,B-corporation', 'I-creative-work,I-person,I-product', 'I-location,I-group', 'I-corporation,I-person', 'B-creative-work,I-product,B-group', 'B-person,B-group'}\n"
          ],
          "name": "stdout"
        }
      ]
    },
    {
      "cell_type": "markdown",
      "metadata": {
        "id": "Qh6qToBNRro4"
      },
      "source": [
        "### Data Preparation"
      ]
    },
    {
      "cell_type": "code",
      "metadata": {
        "id": "JWIshaAS1mTk",
        "colab": {
          "base_uri": "https://localhost:8080/"
        },
        "outputId": "257fdce3-36a8-4d77-fd6a-df5cbf290e3b"
      },
      "source": [
        "# functions of sentence representations for sequence labelling\n",
        "def sent2labels(sent):\n",
        "    return [items[-1].split(',')[0] for items in sent]\n",
        "\n",
        "def sent2tokens(sent):\n",
        "    return [items[0] for items in sent]\n",
        "\n",
        "# sentence representations for sequence labelling\n",
        "def convert_labels_to_inds(sent_labels, label_2_id):\n",
        "  return [label_2_id[label] for label in sent_labels]\n",
        "\n",
        "def transform_tokens_labels(data):\n",
        "    tokens = [sent2tokens(s) for s in data]\n",
        "    labels = [sent2labels(s) for s in data]\n",
        "    id_2_label = list(set([label for sent in labels for label in sent]))\n",
        "    print(\"Number of unique labels in training data:\", len(id_2_label))\n",
        "    label_2_id = {label:i for i, label in enumerate(id_2_label)}\n",
        "    label_inds = [convert_labels_to_inds(sent_labels, label_2_id) for sent_labels in labels]\n",
        "    return tokens, label_inds, labels\n",
        "\n",
        "train_sent_tokens, train_label_inds, train_labels = transform_tokens_labels(train_data)\n",
        "train_id_2_label = list(set([label for sent in train_labels for label in sent]))\n",
        "\n",
        "dev_sent_tokens, dev_label_inds, dev_labels = transform_tokens_labels(dev_data)\n",
        "test_sent_tokens, test_label_inds, test_labels = transform_tokens_labels(train_data)\n",
        "\n",
        "print(train_sent_tokens[0])\n",
        "print(train_labels[0])\n",
        "print(train_label_inds[0])"
      ],
      "execution_count": 3,
      "outputs": [
        {
          "output_type": "stream",
          "text": [
            "Number of unique labels in training data: 13\n",
            "Number of unique labels in training data: 13\n",
            "Number of unique labels in training data: 13\n",
            "['@paulwalk', 'It', \"'s\", 'the', 'view', 'from', 'where', 'I', \"'m\", 'living', 'for', 'two', 'weeks', '.', 'Empire', 'State', 'Building', '=', 'ESB', '.', 'Pretty', 'bad', 'storm', 'here', 'last', 'evening', '.']\n",
            "['O', 'O', 'O', 'O', 'O', 'O', 'O', 'O', 'O', 'O', 'O', 'O', 'O', 'O', 'B-location', 'I-location', 'I-location', 'O', 'B-location', 'O', 'O', 'O', 'O', 'O', 'O', 'O', 'O']\n",
            "[2, 2, 2, 2, 2, 2, 2, 2, 2, 2, 2, 2, 2, 2, 1, 6, 6, 2, 1, 2, 2, 2, 2, 2, 2, 2, 2]\n"
          ],
          "name": "stdout"
        }
      ]
    },
    {
      "cell_type": "code",
      "metadata": {
        "id": "m963KaxfbNbs"
      },
      "source": [
        "window_size = 2\n",
        "\n",
        "# converting tokenized sentence lists to vocabulary indices\n",
        "id_2_word = list(set([token for sent in train_sent_tokens for token in sent])) + [\"<pad>\", \"<unk>\"]\n",
        "word_2_id = {w:i for i,w in enumerate(id_2_word)}\n",
        "\n",
        "def convert_tokens_to_inds(sentence, word_2_id):\n",
        "    return [word_2_id.get(t, word_2_id[\"<unk>\"]) for t in sentence]\n",
        "\n",
        "# padding for windows\n",
        "def pad_sentence_for_window(sentence, window_size=2, pad_token=\"<pad>\"):\n",
        "    return [pad_token]*window_size + sentence + [pad_token]*window_size \n"
      ],
      "execution_count": 4,
      "outputs": []
    },
    {
      "cell_type": "code",
      "metadata": {
        "id": "NN7BXIZVueq5"
      },
      "source": [
        "# Batching sentences together with a DataLoader\n",
        "torch.manual_seed(1)\n",
        "\n",
        "def my_collate(data, window_size, word_2_id):\n",
        "    \"\"\"\n",
        "    For some chunk of sentences and labels\n",
        "        -add winow padding\n",
        "        -pad for lengths using pad_sequence\n",
        "        -convert our labels to one-hots\n",
        "        -return padded inputs, one-hot labels, and lengths\n",
        "    \"\"\"\n",
        "    \n",
        "    x_s, y_s = zip(*data)\n",
        "\n",
        "    # deal with input sentences as we've seen\n",
        "    window_padded = [convert_tokens_to_inds(pad_sentence_for_window(sentence, window_size), word_2_id)\n",
        "                                                                                  for sentence in x_s]\n",
        "    # append zeros to each list of token ids in batch so that they are all the same length\n",
        "    padded = nn.utils.rnn.pad_sequence([torch.LongTensor(t) for t in window_padded], batch_first=True)\n",
        "    \n",
        "    # convert labels to one-hots\n",
        "    labels = []\n",
        "    lengths = []\n",
        "    for y in y_s:\n",
        "        lengths.append(len(y))\n",
        "        one_hot = torch.zeros(len(y), len(train_id_2_label))\n",
        "        y = torch.tensor(y)\n",
        "        y = y.unsqueeze(1)\n",
        "        label = one_hot.scatter_(1, y, 1)\n",
        "        labels.append(label)\n",
        "    padded_labels = nn.utils.rnn.pad_sequence(labels, batch_first=True)\n",
        "    \n",
        "    return padded.long(), padded_labels, torch.LongTensor(lengths)"
      ],
      "execution_count": 5,
      "outputs": []
    },
    {
      "cell_type": "code",
      "metadata": {
        "id": "5sAza2qj-WKF"
      },
      "source": [
        "class SoftmaxWordWindowClassifier(nn.Module):\n",
        "    \"\"\"\n",
        "    A one-layer, binary word-window classifier.\n",
        "    \"\"\"\n",
        "    def __init__(self, config, vocab_size, pad_idx=0):\n",
        "        super(SoftmaxWordWindowClassifier, self).__init__()\n",
        "        \"\"\"\n",
        "        Instance variables.\n",
        "        \"\"\"\n",
        "        self.window_size = 2*config[\"half_window\"]+1\n",
        "        self.embed_dim = config[\"embed_dim\"]\n",
        "        self.hidden_dim = config[\"hidden_dim\"]\n",
        "        self.num_classes = config[\"num_classes\"]\n",
        "        self.freeze_embeddings = config[\"freeze_embeddings\"]\n",
        "        \n",
        "        \"\"\"\n",
        "        Embedding layer\n",
        "        -model holds an embedding for each layer in our vocab\n",
        "        -sets aside a special index in the embedding matrix for padding vector (of zeros)\n",
        "        -by default, embeddings are parameters (so gradients pass through them)\n",
        "        \"\"\"\n",
        "        self.embed_layer = nn.Embedding(vocab_size, self.embed_dim, padding_idx=pad_idx)\n",
        "        if self.freeze_embeddings:\n",
        "            self.embed_layer.weight.requires_grad = False\n",
        "        \n",
        "        \"\"\"\n",
        "        Hidden layer\n",
        "        -we want to map embedded word windows of dim (window_size+1)*self.embed_dim to a hidden layer.\n",
        "        -nn.Sequential allows you to efficiently specify sequentially structured models\n",
        "            -first the linear transformation is evoked on the embedded word windows\n",
        "            -next the nonlinear transformation tanh is evoked.\n",
        "        \"\"\"\n",
        "        self.hidden_layer = nn.Sequential(nn.Linear(self.window_size*self.embed_dim, \n",
        "                                                    self.hidden_dim), \n",
        "                                          nn.Tanh())\n",
        "        \n",
        "        \"\"\"\n",
        "        Output layer\n",
        "        -we want to map elements of the output layer (of size self.hidden dim) to a number of classes.\n",
        "        \"\"\"\n",
        "        self.output_layer = nn.Linear(self.hidden_dim, self.num_classes)\n",
        "        \n",
        "        \"\"\"\n",
        "        Softmax\n",
        "        -The final step of the softmax classifier: mapping final hidden layer to class scores.\n",
        "        -pytorch has both logsoftmax and softmax functions (and many others)\n",
        "        -since our loss is the negative LOG likelihood, we use logsoftmax\n",
        "        -technically you can take the softmax, and take the log but PyTorch's implementation\n",
        "         is optimized to avoid numerical underflow issues.\n",
        "        \"\"\"\n",
        "        self.log_softmax = nn.LogSoftmax(dim=2)\n",
        "        \n",
        "    def forward(self, inputs):\n",
        "        \"\"\"\n",
        "        Let B:= batch_size\n",
        "            L:= window-padded sentence length\n",
        "            D:= self.embed_dim\n",
        "            S:= self.window_size\n",
        "            H:= self.hidden_dim\n",
        "            \n",
        "        inputs: a (B, L) tensor of token indices\n",
        "        \"\"\"\n",
        "        B, L = inputs.size()\n",
        "        \n",
        "        \"\"\"\n",
        "        Reshaping.\n",
        "        Takes in a (B, L) LongTensor\n",
        "        Outputs a (B, L~, S) LongTensor\n",
        "        \"\"\"\n",
        "        # Fist, get our word windows for each word in our input.\n",
        "        token_windows = inputs.unfold(1, self.window_size, 1)\n",
        "        _, adjusted_length, _ = token_windows.size()\n",
        "        \n",
        "        # Good idea to do internal tensor-size sanity checks, at the least in comments!\n",
        "        assert token_windows.size() == (B, adjusted_length, self.window_size)\n",
        "        \n",
        "        \"\"\"\n",
        "        Embedding.\n",
        "        Takes in a torch.LongTensor of size (B, L~, S) \n",
        "        Outputs a (B, L~, S, D) FloatTensor.\n",
        "        \"\"\"\n",
        "        embedded_windows = self.embed_layer(token_windows)\n",
        "        \n",
        "        \"\"\"\n",
        "        Reshaping.\n",
        "        Takes in a (B, L~, S, D) FloatTensor.\n",
        "        Resizes it into a (B, L~, S*D) FloatTensor.\n",
        "        -1 argument \"infers\" what the last dimension should be based on leftover axes.\n",
        "        \"\"\"\n",
        "        embedded_windows = embedded_windows.view(B, adjusted_length, -1)\n",
        "        \n",
        "        \"\"\"\n",
        "        Layer 1.\n",
        "        Takes in a (B, L~, S*D) FloatTensor.\n",
        "        Resizes it into a (B, L~, H) FloatTensor\n",
        "        \"\"\"\n",
        "        layer_1 = self.hidden_layer(embedded_windows)\n",
        "        \n",
        "        \"\"\"\n",
        "        Layer 2\n",
        "        Takes in a (B, L~, H) FloatTensor.\n",
        "        Resizes it into a (B, L~, 2) FloatTensor.\n",
        "        \"\"\"\n",
        "        output = self.output_layer(layer_1)\n",
        "        \n",
        "        \"\"\"\n",
        "        Softmax.\n",
        "        Takes in a (B, L~, 2) FloatTensor of unnormalized class scores.\n",
        "        Outputs a (B, L~, 2) FloatTensor of (log-)normalized class scores.\n",
        "        \"\"\"\n",
        "        output = self.log_softmax(output)\n",
        "        \n",
        "        return output"
      ],
      "execution_count": 6,
      "outputs": []
    },
    {
      "cell_type": "code",
      "metadata": {
        "id": "GyATHYB5-5nz"
      },
      "source": [
        "def loss_function(outputs, labels, lengths):\n",
        "    \"\"\"Computes negative LL loss on a batch of model predictions.\"\"\"\n",
        "    B, L, num_classes = outputs.size()\n",
        "    num_elems = lengths.sum().float()\n",
        "        \n",
        "    # get only the values with non-zero labels\n",
        "    loss = outputs*labels\n",
        "    \n",
        "    # rescale average\n",
        "    return -loss.sum() / num_elems\n",
        "\n",
        "def train_epoch(loss_function, optimizer, model, train_data):\n",
        "    \n",
        "    ## For each batch, we must reset the gradients\n",
        "    ## stored by the model.    \n",
        "    model.to(device)\n",
        "    model.train()\n",
        "    total_loss = 0\n",
        "    for batch, labels, lengths in train_data:\n",
        "        batch, labels, lengths = batch.to(device), labels.to(device), lengths.to(device)\n",
        "        # clear gradients\n",
        "        optimizer.zero_grad()\n",
        "        # evoke model in training mode on batch\n",
        "        outputs = model.forward(batch)\n",
        "        # compute loss w.r.t batch\n",
        "        loss = loss_function(outputs, labels, lengths)\n",
        "        # pass gradients back, startiing on loss value\n",
        "        loss.backward()\n",
        "        # update parameters\n",
        "        optimizer.step()\n",
        "        total_loss += loss.item()\n",
        "\n",
        "    # return the total to keep track of how you did this time around\n",
        "    return total_loss"
      ],
      "execution_count": 7,
      "outputs": []
    },
    {
      "cell_type": "markdown",
      "metadata": {
        "id": "_pHbaCp51Az_"
      },
      "source": [
        "### Training"
      ]
    },
    {
      "cell_type": "code",
      "metadata": {
        "id": "AdCbC3er-9GM"
      },
      "source": [
        "config = {\"batch_size\": 4,\n",
        "          \"half_window\": 2,\n",
        "          \"embed_dim\": 25,\n",
        "          \"hidden_dim\": 25,\n",
        "          \"num_classes\": 13, \n",
        "          \"freeze_embeddings\": False,\n",
        "          'lr': 0.02,\n",
        "          'epochs': 100,\n",
        "         }\n",
        "\n",
        "device = torch.device('cuda' if torch.cuda.is_available() else 'cpu')\n",
        "def train(model, config):\n",
        "    learning_rate = config['lr'] # org: 0.0002\n",
        "    num_epochs = config['epochs']\n",
        "\n",
        "    # Shuffle True is good practice for train loaders.\n",
        "    # Use functools.partial to construct a partially populated collate function\n",
        "    train_loader = DataLoader(list(zip(train_sent_tokens, train_label_inds)), \n",
        "                                batch_size=config['batch_size'], shuffle=True, \n",
        "                                collate_fn=partial(my_collate, window_size=config['half_window'], word_2_id=word_2_id))    \n",
        "    optimizer = torch.optim.SGD(model.parameters(), lr=learning_rate)\n",
        "    scheduler = torch.optim.lr_scheduler.StepLR(optimizer, step_size=100, gamma=0.5) # step=30, gamma=0.1 for epochs=100\n",
        "\n",
        "    # TRAIN\n",
        "    losses = []\n",
        "    lr = []\n",
        "    for epoch in range(num_epochs):    \n",
        "        epoch_loss = train_epoch(loss_function, optimizer, model, train_loader)\n",
        "        lr.append(scheduler.get_last_lr()[0])\n",
        "        losses.append([epoch_loss])\n",
        "        if epoch%20 == 0:\n",
        "            print(epoch, epoch_loss)\n",
        "        scheduler.step()\n",
        "\n",
        "    import matplotlib.pyplot as plt\n",
        "    fig, axes = plt.subplots(1,2, figsize=(10,4))\n",
        "    axes[0].plot(range(num_epochs), lr)\n",
        "    axes[0].set_title('learning rate')\n",
        "    axes[1].plot(range(num_epochs), losses)\n",
        "    axes[1].set_title('training loss')\n",
        "    plt.show()\n",
        "\n",
        "    return model"
      ],
      "execution_count": 28,
      "outputs": []
    },
    {
      "cell_type": "markdown",
      "metadata": {
        "id": "u1rTPZHVRrpz"
      },
      "source": [
        "### Evaluation\n",
        "There is much more O entities in data set, but we’re more interested in other entities. To account for this we’ll use averaged F1 score computed for all labels except for O. sklearn-crfsuite.metrics package provides some useful metrics for sequence classification task, including this one."
      ]
    },
    {
      "cell_type": "code",
      "metadata": {
        "id": "Ei4N1XO9czHO"
      },
      "source": [
        "def eval(model, test_sent_tokens, test_label_inds, test_labels, config):    \n",
        "    test_loader = DataLoader(list(zip(test_sent_tokens, test_label_inds)), \n",
        "                                batch_size=config['batch_size'], shuffle=False, \n",
        "                                collate_fn=partial(my_collate, window_size=config['half_window'], word_2_id=word_2_id))\n",
        "\n",
        "    test_outputs = []\n",
        "    for test_instance, labs, _ in test_loader:\n",
        "        test_instance, labs = test_instance.to(device), labs.to(device)\n",
        "        outputs_full = model.forward(test_instance)\n",
        "        outputs = torch.argmax(outputs_full, dim=2)\n",
        "        for i in range(outputs.size(0)):\n",
        "            test_outputs.append(outputs[i].tolist())\n",
        "\n",
        "    y_test = test_labels\n",
        "    y_pred = []\n",
        "    for test, pred in zip(test_labels, test_outputs):\n",
        "        y_pred.append([train_id_2_label[id] for id in pred[:len(test)]])\n",
        "\n",
        "    assert len(y_pred) == len(y_test), '{} vs. {}'.format(len(y_pred), len(y_test))\n",
        "    for i, pred, test in zip(list(range(len(y_pred))), y_pred, y_test):\n",
        "        assert len(pred) == len(test), '{}: {} vs. {}'.format(i, len(pred), len(test))\n",
        "\n",
        "    f1 = metrics.flat_f1_score(y_test, y_pred, average='weighted', labels=train_id_2_label)\n",
        "    print('check f1 score',f1)\n",
        "    idx = randint(0, len(test_labels)-1)\n",
        "    print('check random predictions')\n",
        "    print('true labels: ', test_labels[idx])\n",
        "    print('predicted labels: ',y_pred[idx])\n",
        "    return f1, y_test, y_pred"
      ],
      "execution_count": 19,
      "outputs": []
    },
    {
      "cell_type": "markdown",
      "metadata": {
        "id": "thb1I8SRRrp9"
      },
      "source": [
        "### Inspect per-class results in more detail:"
      ]
    },
    {
      "cell_type": "markdown",
      "metadata": {
        "id": "WLsATtVc18MN"
      },
      "source": [
        "### Hyperparameter tuning"
      ]
    },
    {
      "cell_type": "code",
      "metadata": {
        "id": "eC9niXA72o2i"
      },
      "source": [
        "# restart kernel so cleared outputs\n",
        "params = {\n",
        "'batch_size': 4,\n",
        " 'embed_dim': [100, 200, 300],\n",
        " 'freeze_embeddings': False,\n",
        " 'half_window': [3, 4, 5],\n",
        " 'hidden_dim': [50, 100],\n",
        " 'num_classes': 13,\n",
        " 'lr': [0.1],\n",
        "}\n",
        "\n",
        "params2tune = ['embed_dim', 'hidden_dim', 'lr', 'half_window']\n",
        "for param in params2tune:\n",
        "    temp = copy.copy(config)\n",
        "    for val in params[param]:\n",
        "        temp[param] = val\n",
        "        print(param, val)\n",
        "        model = SoftmaxWordWindowClassifier(config, len(word_2_id))\n",
        "        model = train(model, temp)\n",
        "        f1, _, _ = eval(model, dev_sent_tokens, dev_label_inds, dev_labels, temp)"
      ],
      "execution_count": null,
      "outputs": []
    },
    {
      "cell_type": "markdown",
      "metadata": {
        "id": "R-Q6KDmRalUx"
      },
      "source": [
        "### Train with optimal params"
      ]
    },
    {
      "cell_type": "code",
      "metadata": {
        "colab": {
          "base_uri": "https://localhost:8080/",
          "height": 1000
        },
        "id": "bD87ovm3QPfO",
        "outputId": "a08ec39e-edb3-45cd-fe9c-33677058e2f4"
      },
      "source": [
        "sorted_labels = sorted(\n",
        "    train_id_2_label,\n",
        "    key=lambda name: (name[1:], name[0])\n",
        ")\n",
        "\n",
        "temp = copy.copy(config)\n",
        "temp['embed_dim'] = 100\n",
        "temp['epochs'] = 1000\n",
        "temp['lr'] = 0.02\n",
        "print(temp)\n",
        "model = SoftmaxWordWindowClassifier(config, len(word_2_id))\n",
        "model = train(model, temp)\n",
        "print('dev evaluation')\n",
        "f1, _, _ = eval(model, dev_sent_tokens, dev_label_inds, dev_labels, temp)\n",
        "print('test evaluation')\n",
        "f1, y_test, y_pred = eval(model, test_sent_tokens, test_label_inds, test_labels, temp)\n",
        "\n",
        "print(metrics.flat_classification_report(\n",
        "    y_test, y_pred, labels=sorted_labels, digits=3\n",
        "))"
      ],
      "execution_count": 35,
      "outputs": [
        {
          "output_type": "stream",
          "text": [
            "{'batch_size': 4, 'half_window': 2, 'embed_dim': 100, 'hidden_dim': 25, 'num_classes': 13, 'freeze_embeddings': False, 'lr': 0.02, 'epochs': 1000}\n",
            "0 341.0711578093469\n",
            "20 158.5276240594685\n",
            "40 147.8348139990121\n",
            "60 136.3057412393391\n",
            "80 127.36744286306202\n",
            "100 118.86299353837967\n",
            "120 115.63777966424823\n",
            "140 111.3352690115571\n",
            "160 109.49670790042728\n",
            "180 106.3065825952217\n",
            "200 102.31963225826621\n",
            "220 100.98802460543811\n",
            "240 99.95833320869133\n",
            "260 98.64964246377349\n",
            "280 96.69916796218604\n",
            "300 96.33948220126331\n",
            "320 94.44644452538341\n",
            "340 93.56727128662169\n",
            "360 94.3340802770108\n",
            "380 94.31676530558616\n",
            "400 92.28549716062844\n",
            "420 92.23177853925154\n",
            "440 92.08689666353166\n",
            "460 90.1944078207016\n",
            "480 90.98448238102719\n",
            "500 90.71044348413125\n",
            "520 91.22237672284245\n",
            "540 88.9292311258614\n",
            "560 89.40400730445981\n",
            "580 89.85433993628249\n",
            "600 89.53317624609917\n",
            "620 89.51861200574785\n",
            "640 89.9917972208932\n",
            "660 89.15616011852399\n",
            "680 89.84686810523272\n",
            "700 89.54060405213386\n",
            "720 88.89983741892502\n",
            "740 89.58677281020209\n",
            "760 88.93170772492886\n",
            "780 89.90778724849224\n",
            "800 88.75482221366838\n",
            "820 89.96458820672706\n",
            "840 89.63242335198447\n",
            "860 89.17737675225362\n",
            "880 88.54574660677463\n",
            "900 89.71192811243236\n",
            "920 90.92745565064251\n",
            "940 88.99332577595487\n",
            "960 90.39386763004586\n",
            "980 88.23434047400951\n"
          ],
          "name": "stdout"
        },
        {
          "output_type": "display_data",
          "data": {
            "image/png": "[encoded data removed]",
            "text/plain": [
              "<Figure size 720x288 with 2 Axes>"
            ]
          },
          "metadata": {
            "tags": [],
            "needs_background": "light"
          }
        },
        {
          "output_type": "stream",
          "text": [
            "dev evaluation\n",
            "check f1 score 0.8797339184825274\n",
            "check random predictions\n",
            "true labels:  ['O', 'O', 'O', 'O', 'O', 'O', 'O', 'O', 'O', 'O', 'O']\n",
            "predicted labels:  ['O', 'O', 'O', 'O', 'O', 'O', 'O', 'O', 'O', 'O', 'O']\n",
            "test evaluation\n",
            "check f1 score 0.9510608524694358\n",
            "check random predictions\n",
            "true labels:  ['O', 'O', 'O', 'B-location', 'I-location', 'O', 'B-location']\n",
            "predicted labels:  ['O', 'O', 'O', 'B-location', 'I-location', 'O', 'B-location']\n"
          ],
          "name": "stdout"
        },
        {
          "output_type": "stream",
          "text": [
            "/usr/local/lib/python3.6/dist-packages/sklearn/metrics/_classification.py:1272: UndefinedMetricWarning: Precision and F-score are ill-defined and being set to 0.0 in labels with no predicted samples. Use `zero_division` parameter to control this behavior.\n",
            "  _warn_prf(average, modifier, msg_start, len(result))\n"
          ],
          "name": "stderr"
        },
        {
          "output_type": "stream",
          "text": [
            "                 precision    recall  f1-score   support\n",
            "\n",
            "              O      0.968     0.999     0.983     44296\n",
            "  B-corporation      0.744     0.362     0.487       177\n",
            "  I-corporation      0.000     0.000     0.000        36\n",
            "B-creative-work      0.458     0.103     0.168       107\n",
            "I-creative-work      0.529     0.214     0.305       168\n",
            "        B-group      0.692     0.061     0.112       148\n",
            "        I-group      0.538     0.065     0.116       108\n",
            "     B-location      0.731     0.437     0.547       391\n",
            "     I-location      0.635     0.201     0.306       164\n",
            "       B-person      0.512     0.184     0.270       468\n",
            "       I-person      0.532     0.147     0.230       225\n",
            "      B-product      0.600     0.030     0.057       100\n",
            "      I-product      0.455     0.062     0.109        81\n",
            "\n",
            "       accuracy                          0.962     46469\n",
            "      macro avg      0.569     0.220     0.284     46469\n",
            "   weighted avg      0.950     0.962     0.951     46469\n",
            "\n"
          ],
          "name": "stdout"
        }
      ]
    },
    {
      "cell_type": "code",
      "metadata": {
        "id": "94RfbQpPflp-"
      },
      "source": [
        "torch.save(model.state_dict(), 'model_emb100_lr0.02_ep1000.pth')"
      ],
      "execution_count": 33,
      "outputs": []
    },
    {
      "cell_type": "code",
      "metadata": {
        "id": "xZke02eYfmiM"
      },
      "source": [
        ""
      ],
      "execution_count": null,
      "outputs": []
    }
  ]
}